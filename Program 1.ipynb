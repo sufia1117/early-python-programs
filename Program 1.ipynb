{
 "cells": [
  {
   "cell_type": "code",
   "execution_count": 1,
   "id": "1ccf431c-a907-48ac-b55a-ef77e13343a9",
   "metadata": {},
   "outputs": [
    {
     "name": "stdout",
     "output_type": "stream",
     "text": [
      "Hello, this program converts temperatures from celsius to fahrenheit\n",
      "\n"
     ]
    },
    {
     "name": "stdin",
     "output_type": "stream",
     "text": [
      "What is the celsius temperature?  100\n"
     ]
    },
    {
     "name": "stdout",
     "output_type": "stream",
     "text": [
      "The temperature is 212.0 degrees Fahrenheit.\n"
     ]
    },
    {
     "name": "stdin",
     "output_type": "stream",
     "text": [
      "What is the celsius temperature?  0\n"
     ]
    },
    {
     "name": "stdout",
     "output_type": "stream",
     "text": [
      "The temperature is 32.0 degrees Fahrenheit.\n"
     ]
    },
    {
     "name": "stdin",
     "output_type": "stream",
     "text": [
      "What is the celsius temperature?  -40\n"
     ]
    },
    {
     "name": "stdout",
     "output_type": "stream",
     "text": [
      "The temperature is -40.0 degrees Fahrenheit.\n"
     ]
    },
    {
     "name": "stdin",
     "output_type": "stream",
     "text": [
      "What is the celsius temperature?  50\n"
     ]
    },
    {
     "name": "stdout",
     "output_type": "stream",
     "text": [
      "The temperature is 122.0 degrees Fahrenheit.\n"
     ]
    },
    {
     "name": "stdin",
     "output_type": "stream",
     "text": [
      "What is the celsius temperature?  -21\n"
     ]
    },
    {
     "name": "stdout",
     "output_type": "stream",
     "text": [
      "The temperature is -5.800000000000004 degrees Fahrenheit.\n",
      "\n",
      "Thanks for my using my program. Good-bye!\n"
     ]
    }
   ],
   "source": [
    "# Prog1Khan.py\n",
    "# A program to convert 5 celsius temperatures to fahrenheit\n",
    "# By: Sufia Khan\n",
    "\n",
    "def main():\n",
    "    print(\"Hello, this program converts temperatures from celsius to fahrenheit\") # Greet the user\n",
    "    print() # Print a blank space\n",
    "    for i in range(5) : \n",
    "        celsius = float(input(\"What is the celsius temperature? \")) # Ask for input for celsius temperature\n",
    "        fahrenheit = (9/5) * celsius + 32 # Use celsius temperature in equation to find fahrenheit temperature\n",
    "        print(\"The temperature is\", fahrenheit,\"degrees Fahrenheit.\") # Print conversion and say goodbye\n",
    "    print()\n",
    "    print(\"Thanks for my using my program. Good-bye!\")\n",
    "    \n",
    "main()"
   ]
  }
 ],
 "metadata": {
  "kernelspec": {
   "display_name": "Python 3 (ipykernel)",
   "language": "python",
   "name": "python3"
  },
  "language_info": {
   "codemirror_mode": {
    "name": "ipython",
    "version": 3
   },
   "file_extension": ".py",
   "mimetype": "text/x-python",
   "name": "python",
   "nbconvert_exporter": "python",
   "pygments_lexer": "ipython3",
   "version": "3.9.12"
  }
 },
 "nbformat": 4,
 "nbformat_minor": 5
}

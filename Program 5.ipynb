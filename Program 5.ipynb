{
 "cells": [
  {
   "cell_type": "code",
   "execution_count": 2,
   "id": "e7e339a1-3fe1-4bf6-9a54-567f3d908725",
   "metadata": {},
   "outputs": [],
   "source": [
    "# Prog5.py\n",
    "# By Sufia Khan\n",
    "# This program will compute taxes based on information stored in files"
   ]
  },
  {
   "cell_type": "code",
   "execution_count": 99,
   "id": "352fbfeb-4d05-4f58-a57d-d1e1f43ac491",
   "metadata": {},
   "outputs": [],
   "source": [
    "file_name = \"p5set1.txt\""
   ]
  },
  {
   "cell_type": "code",
   "execution_count": 100,
   "id": "a9c3c910-476c-4204-a9c3-17d949232937",
   "metadata": {},
   "outputs": [],
   "source": [
    "# Read the data from the file\n",
    "with open(file_name, \"r\") as fp:\n",
    "    \n",
    "    data = fp.readlines()\n",
    "    \n",
    "    # Remove the newline character \\n from each data item\n",
    "data = [d.strip() for d in data]"
   ]
  },
  {
   "cell_type": "code",
   "execution_count": 101,
   "id": "272dac0e-eaf8-49db-865c-69f296ff13a3",
   "metadata": {},
   "outputs": [
    {
     "name": "stdout",
     "output_type": "stream",
     "text": [
      "['3', '1456', 'S', '25000.00', '6', '2345', 'M', '65000.00', '3', '983', 'H', '55000.00', '4']\n"
     ]
    }
   ],
   "source": [
    "# Display the data\n",
    "print(data)"
   ]
  },
  {
   "cell_type": "code",
   "execution_count": 102,
   "id": "d9a4eeda-92de-4830-8efc-e488f2fd045c",
   "metadata": {},
   "outputs": [],
   "source": [
    "def compute_tax_rate(status, taxincome):\n",
    "    # tax rate for Single status\n",
    "    if status == ('S'):\n",
    "        if taxincome > 0 or taxincome < 15000:\n",
    "            tax_rate = 0.14\n",
    "        elif taxincome >= 15000 or taxincome < 30000:\n",
    "            tax_rate = 0.20\n",
    "        elif taxincome > 30000:\n",
    "            taxrate = 0.31\n",
    "        \n",
    "    # tax rate for Married Status\n",
    "    elif status == ('M'):\n",
    "        if taxincome > 0 or taxincome < 20000:\n",
    "            tax_rate = 0.15\n",
    "        elif taxincome > 20000 or taxincome < 65000:\n",
    "            tax_rate = 0.20\n",
    "        elif taxincome > 65000:\n",
    "            tax_rate = 0.27\n",
    "        \n",
    "    # tax rate for Head of Household\n",
    "    elif status == ('H'):\n",
    "        if taxincome > 0 or taxincome < 30000:\n",
    "            tax_rate = 0.13\n",
    "        elif taxincome > 30000 or taxincome < 85000:\n",
    "            tax_rate = 0.21\n",
    "        elif taxincome > 85000:\n",
    "            tax_rate = 0.21\n",
    "    \n",
    "    tax = taxincome * tax_rate\n",
    "    return tax\n",
    "        "
   ]
  },
  {
   "cell_type": "code",
   "execution_count": 103,
   "id": "160299c2-96f1-4df6-bcfe-d9005e65fb6c",
   "metadata": {},
   "outputs": [],
   "source": [
    "def compute_tax_income(gross, exemptions):\n",
    "    taxincome = gross - 4000 - 1500 * (exemptions)"
   ]
  },
  {
   "cell_type": "code",
   "execution_count": 104,
   "id": "4ca00920-7836-4f44-8325-211b91e65edc",
   "metadata": {},
   "outputs": [],
   "source": [
    "def status_description(status):\n",
    "    if status == 'S':\n",
    "        status += 'Single'\n",
    "    elif status == 'M':\n",
    "        status += 'Married'\n",
    "    elif status == 'H':\n",
    "        status += 'Head of Household'\n",
    "    return status"
   ]
  },
  {
   "cell_type": "code",
   "execution_count": 105,
   "id": "cc17193b-2a35-4856-93b3-30ef119516db",
   "metadata": {},
   "outputs": [
    {
     "name": "stdout",
     "output_type": "stream",
     "text": [
      "Taxpayer ID: 1456\n",
      "Filing Status: S\n",
      "Gross Income: $25000.0\n",
      "Exemptions: 6\n",
      "\n",
      "Taxpayer ID: 2345\n",
      "Filing Status: M\n",
      "Gross Income: $65000.0\n",
      "Exemptions: 3\n",
      "\n",
      "Taxpayer ID: 983\n",
      "Filing Status: H\n",
      "Gross Income: $55000.0\n",
      "Exemptions: 4\n",
      "\n"
     ]
    }
   ],
   "source": [
    "n = int(data[0])\n",
    "\n",
    "# Display tax information\n",
    "for i in range (1, n*4, 4):\n",
    "    \n",
    "    tid = data[i]\n",
    "    status = data[i+1]\n",
    "    gross = float(data[i+2])\n",
    "    exemptions = int(data[i+3])\n",
    "    \n",
    "    print(f\"Taxpayer ID: {tid}\")\n",
    "    print(f\"Filing Status: {status}\")\n",
    "    print(f\"Gross Income: ${gross}\")\n",
    "    print(f\"Exemptions: {exemptions}\")\n",
    "    print()\n",
    "    "
   ]
  }
 ],
 "metadata": {
  "kernelspec": {
   "display_name": "Python 3 (ipykernel)",
   "language": "python",
   "name": "python3"
  },
  "language_info": {
   "codemirror_mode": {
    "name": "ipython",
    "version": 3
   },
   "file_extension": ".py",
   "mimetype": "text/x-python",
   "name": "python",
   "nbconvert_exporter": "python",
   "pygments_lexer": "ipython3",
   "version": "3.9.12"
  }
 },
 "nbformat": 4,
 "nbformat_minor": 5
}

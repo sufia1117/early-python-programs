{
 "cells": [
  {
   "cell_type": "code",
   "execution_count": 11,
   "id": "adaa1cf5-defd-4e8c-ba9e-c937edad5f9c",
   "metadata": {},
   "outputs": [
    {
     "name": "stdout",
     "output_type": "stream",
     "text": [
      "This program calculates the total charge for downloading songs\n",
      "\n"
     ]
    },
    {
     "name": "stdin",
     "output_type": "stream",
     "text": [
      "Enter your last name:  Khan\n",
      "Enter your first name:  Sufia\n",
      "Enter cost per downloaded song (in dollars, include cents in decimal form):  1.99\n",
      "Enter number of songs downloaded:  6\n"
     ]
    },
    {
     "name": "stdout",
     "output_type": "stream",
     "text": [
      "\n",
      "Buyer's full name:  Sufia Khan\n",
      "Number of songs purchased:  6 songs\n",
      "Price per song:  1.99 dollars\n",
      "The service charge is 1.07 dollars.\n",
      "The tax owed is 1.17 dollars.\n",
      "Your total charge is 14.18 dollars.\n"
     ]
    }
   ],
   "source": [
    "# Prog3Khan.py\n",
    "# This program calculates the total amount due by buyer for downloading songs\n",
    "# User will input last name, first name, cost of songs, and number of songs downloaded\n",
    "# Base charge, service charge, net payment, tax amount, and total charge will be calculated. \n",
    "# Data for buyer's name, number of songs, price per song, service charge, taxes owed, and total charge will be the outputs\n",
    "\n",
    "def main():\n",
    "    print(\"This program calculates the total charge for downloading songs\")\n",
    "    print()\n",
    "    \n",
    "    lastName = input(\"Enter your last name: \")\n",
    "    firstName = input(\"Enter your first name: \")\n",
    "    songCost = float(input(\"Enter cost per downloaded song (in dollars, include cents in decimal form): \"))\n",
    "    numSongs = int(input(\"Enter number of songs downloaded: \"))\n",
    "    \n",
    "    baseCharge = songCost * numSongs\n",
    "    \n",
    "    if numSongs <= 5:\n",
    "        servCharge = round(0.11 * baseCharge, 2)\n",
    "    elif 5 < numSongs < 8:\n",
    "        servCharge = round(0.09 * baseCharge, 2)\n",
    "    elif numSongs >= 9:\n",
    "        servCharge = round(0.06 * baseCharge, 2)\n",
    "    else:\n",
    "        print(\"error occurred\")\n",
    "        \n",
    "    netPay = servCharge + baseCharge \n",
    "    \n",
    "    if netPay <= 4.00:\n",
    "        taxRate = round(0.00 * netPay, 2)\n",
    "    elif 4.00 < songCost < 7.50:\n",
    "        taxRate = round(0.035 * netPay, 2)\n",
    "    elif 7.50 < songCost < 10.99:\n",
    "        taxRate = round(0.0775 * netPay, 2)\n",
    "    elif songCost < 10.99:\n",
    "        taxRate = round(0.09 * netPay, 2)\n",
    "    else: \n",
    "        print(\"error occurred\")\n",
    "    \n",
    "    totalCharge = round(netPay + taxRate, 2) \n",
    "    \n",
    "    print()\n",
    "    print(\"Buyer's full name: \", firstName, lastName)\n",
    "    print(\"Number of songs purchased: \", numSongs, \"songs\")\n",
    "    print(\"Price per song: \", songCost, \"dollars\")\n",
    "    print(\"The service charge is\", servCharge, \"dollars.\")\n",
    "    print(\"The tax owed is\", taxRate, \"dollars.\")\n",
    "    print(\"Your total charge is\", totalCharge, \"dollars.\")\n",
    "    \n",
    "main()\n",
    "    "
   ]
  }
 ],
 "metadata": {
  "kernelspec": {
   "display_name": "Python 3 (ipykernel)",
   "language": "python",
   "name": "python3"
  },
  "language_info": {
   "codemirror_mode": {
    "name": "ipython",
    "version": 3
   },
   "file_extension": ".py",
   "mimetype": "text/x-python",
   "name": "python",
   "nbconvert_exporter": "python",
   "pygments_lexer": "ipython3",
   "version": "3.9.12"
  }
 },
 "nbformat": 4,
 "nbformat_minor": 5
}

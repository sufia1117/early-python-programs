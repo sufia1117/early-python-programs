{
 "cells": [
  {
   "cell_type": "code",
   "execution_count": 1,
   "id": "a9a80094-2f38-49df-8a06-e3b7655d0e6b",
   "metadata": {},
   "outputs": [
    {
     "name": "stdout",
     "output_type": "stream",
     "text": [
      "Welcome to the Twitter Promoted Tweet Calculator!\n",
      "This program will compute the score for a promoted tweet.\n",
      "\n"
     ]
    },
    {
     "name": "stdin",
     "output_type": "stream",
     "text": [
      "Enter the number of re-tweets:  100\n",
      "Enter the number of @ replies:  200\n",
      "Enter the number of days since tweeted:  10\n"
     ]
    },
    {
     "name": "stdout",
     "output_type": "stream",
     "text": [
      "Retweet Score is 33.33\n",
      "Reply Score is 66.66\n",
      "Day Score is 0.29996999999999996\n",
      "Your tweet's score is 100.28997\n",
      "\n",
      "Thanks for using my program! Good-bye.\n"
     ]
    }
   ],
   "source": [
    "# Prog2Khan.py\n",
    "# This program calculates a tweet's overall score to determine whether it should be a top tweet\n",
    "# User will enter number of re-tweets, @ replies, and days since tweeted. Retweet, reply, and day scores will be outputs\n",
    "# Scores of re-tweets, replies, and days will be calculated separately and then added to calculate overall score\n",
    "    \n",
    "def main():\n",
    "    print(\"Welcome to the Twitter Promoted Tweet Calculator!\")\n",
    "    print(\"This program will compute the score for a promoted tweet.\")\n",
    "    print()\n",
    "    numRetweets = int(input(\"Enter the number of re-tweets: \"))\n",
    "    numReplies = int(input(\"Enter the number of @ replies: \"))\n",
    "    numDays = int(input(\"Enter the number of days since tweeted: \"))\n",
    "    \n",
    "    retweetScore = 0.3333 * numRetweets\n",
    "    print(\"Retweet Score is\", retweetScore)\n",
    "    \n",
    "    replyScore = 0.3333 * numReplies\n",
    "    print(\"Reply Score is\", replyScore)\n",
    "    \n",
    "    dayScore = 0.3333*(3/(numDays)*3)\n",
    "    print(\"Day Score is\", dayScore)\n",
    "    \n",
    "    score = retweetScore + replyScore + dayScore\n",
    "    print(\"Your tweet's score is\", score)\n",
    "    print()\n",
    "    print(\"Thanks for using my program! Good-bye.\")\n",
    "main()\n",
    "                            "
   ]
  }
 ],
 "metadata": {
  "kernelspec": {
   "display_name": "Python 3 (ipykernel)",
   "language": "python",
   "name": "python3"
  },
  "language_info": {
   "codemirror_mode": {
    "name": "ipython",
    "version": 3
   },
   "file_extension": ".py",
   "mimetype": "text/x-python",
   "name": "python",
   "nbconvert_exporter": "python",
   "pygments_lexer": "ipython3",
   "version": "3.9.12"
  }
 },
 "nbformat": 4,
 "nbformat_minor": 5
}

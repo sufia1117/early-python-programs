{
 "cells": [
  {
   "cell_type": "code",
   "execution_count": 13,
   "id": "05635978-c9cd-4aa7-a5d1-c59fd9dc10ee",
   "metadata": {},
   "outputs": [],
   "source": [
    "# Prog6khan.py\n",
    "# This program will track pay-per-view movies and will output information, including the total payment due"
   ]
  },
  {
   "cell_type": "code",
   "execution_count": 1,
   "id": "0b3e46f3-a176-4e5a-9759-0969fcb30c99",
   "metadata": {},
   "outputs": [],
   "source": [
    "def chooseMovies(moviesOrdered):\n",
    "    \"\"\"This function calculates the movie cost from the length and rating of the movie\"\"\"\n",
    "    for n in range(moviesOrdered):\n",
    "        movieLength = int(input(\"Enter the length of the movie (in minutes, between 1 and 240): \"))\n",
    "        if (movieLength < 1) or (movieLength > 240):\n",
    "            print(\"Invalid length\")\n",
    "            movieLength = int(input(\"Enter the length of the movie (in minutes, between 1 and 240): \"))\n",
    "                \n",
    "        rating = input(\"Enter the rating of the movie: \")\n",
    "        \n",
    "        if rating == (\"G\") or (\"g\"):\n",
    "            cost = 0.059 * movieLength\n",
    "        elif rating == (\"P\") or (\"p\"):\n",
    "            cost = 0.054 * movieLength\n",
    "        elif rating == (\"R\") or (\"r\"):\n",
    "            cost = 0.061 * movieLength\n",
    "        elif rating == (\"X\") or (\"x\"):\n",
    "            cost = 0.197 * movieLength\n",
    "        elif rating == (\"O\") or (\"o\"):\n",
    "            cost = 0.067 * movieLength\n",
    "        else:\n",
    "            print(\"Invalid Rating\")\n",
    "            rating = input(\"Enter the rating of the movie: \")\n",
    "            \n",
    "    moviesCost = moviesOrdered * cost\n",
    "    \n",
    "    return moviesCost\n"
   ]
  },
  {
   "cell_type": "code",
   "execution_count": 1,
   "id": "27aba224-f6eb-4b31-ab76-cfa0c58ee948",
   "metadata": {},
   "outputs": [],
   "source": [
    "def calcServCharge(moviesOrdered, moviesCost):\n",
    "    \"\"\"This function calculates the service charge based on the number of movies ordered\"\"\"\n",
    "    if (moviesOrdered >= 1) and (moviesOrdered <= 4):\n",
    "        servCharge = moviesCost * 0.14\n",
    "    if (moviesOrdered >= 5) and (moviesOrdered <= 8):\n",
    "        servCharge = moviesCost * 0.10\n",
    "    if (moviesOrdered >= 9) and (moviesOrdered <= 11):\n",
    "        servCharge = moviesCost * 0.075\n",
    "    if moviesOrdered > 11:\n",
    "        servCharge = moviesCost * 0.04\n",
    "        \n",
    "    return servCharge\n",
    "    "
   ]
  },
  {
   "cell_type": "code",
   "execution_count": 2,
   "id": "1ef3678e-57c7-4a5d-8143-68504ffdf6a9",
   "metadata": {},
   "outputs": [],
   "source": [
    "def calcTotalDue(moviesCost, servCharge):\n",
    "    \"\"\"This function calculates the total amount due using the servic charge, movie cost, and tax\"\"\"\n",
    "    without_tax = moviesCost + servCharge \n",
    "    tax = without_tax * 0.0825\n",
    "    total_due = without_tax + tax\n",
    "    return total_due\n",
    "    "
   ]
  },
  {
   "cell_type": "code",
   "execution_count": 3,
   "id": "2dd4882d-834d-41de-a474-b89152ca9d01",
   "metadata": {},
   "outputs": [],
   "source": [
    "def outputResults(custName, custID, moviesOrdered, moviesCost, servCharge, total_due):\n",
    "    \"\"\"This function outputs all of the info for the customer\"\"\"\n",
    "    print(f\"\\nCustomer Name: {custName}\\n\")\n",
    "    print(f\"Customer ID: {custID}\\n\")\n",
    "    print(f\"Number of movies purchased: {moviesOrdered}\\n\")\n",
    "    print(f\"Total cost of movies: {moviesCost: .2f}\\n\")\n",
    "    print(f\"Service Charge: {servCharge: .2f}\\n\")\n",
    "    print(f\"Total amount due: {total_due: .2f}\\n\")\n",
    "          "
   ]
  },
  {
   "cell_type": "code",
   "execution_count": 5,
   "id": "c2c699e6-83ae-467e-9488-b8aa92451122",
   "metadata": {},
   "outputs": [],
   "source": [
    "def main():\n",
    "    \"\"\"This function combines the prior functions t create the movie tracker\"\"\"\n",
    "    print(\"Welcome to the pay-per-view movie tracker.\\n\")\n",
    "    \n",
    "    custID = int(input(\"Enter the customer ID, enter 0 to end the program: \"))\n",
    "    counter = 0\n",
    "    while custID != 0:\n",
    "        counter += 1\n",
    "        custName = input(\"Enter the customer's name: \")\n",
    "        moviesOrdered = int(input(\"Enter the number of movies ordered: \"))\n",
    "        if moviesOrdered < 1:\n",
    "            print(\"Invalid number. Enter a positive integer\")\n",
    "            moviesOrdered = int(input(\"Enter the number of movies ordered: \"))\n",
    "    \n",
    "        moviesCost = chooseMovies(moviesOrdered)\n",
    "        servCharge = calcServCharge(moviesOrdered, moviesCost)\n",
    "        total_due = calcTotalDue(moviesCost, servCharge)\n",
    "        print(\"\\n<<<<<<Customer Summary>>>>>>\\n\")\n",
    "        outputResults(custName, custID, moviesOrdered, moviesCost, servCharge, total_due)\n",
    "        custID = int(input(\"Enter the customer ID, enter 0 to end the program: \"))\n",
    "        \n",
    "    else:\n",
    "        print(\"No customers were processed, goodbye!\")\n",
    "        \n",
    "    print(f\"<<<<<<Overall Summary>>>>>>\\n {counter} customers were processed.\") \n",
    "    print(\"\\nThank you for using the pay-per-view movie tracker! Goodbye.\")\n",
    "    \n",
    "    \n"
   ]
  },
  {
   "cell_type": "code",
   "execution_count": null,
   "id": "5e04df86-a567-4e00-9daa-df15f39856af",
   "metadata": {},
   "outputs": [],
   "source": []
  }
 ],
 "metadata": {
  "kernelspec": {
   "display_name": "Python 3 (ipykernel)",
   "language": "python",
   "name": "python3"
  },
  "language_info": {
   "codemirror_mode": {
    "name": "ipython",
    "version": 3
   },
   "file_extension": ".py",
   "mimetype": "text/x-python",
   "name": "python",
   "nbconvert_exporter": "python",
   "pygments_lexer": "ipython3",
   "version": "3.9.12"
  }
 },
 "nbformat": 4,
 "nbformat_minor": 5
}

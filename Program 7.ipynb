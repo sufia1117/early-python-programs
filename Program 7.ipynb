{
 "cells": [
  {
   "cell_type": "code",
   "execution_count": null,
   "id": "c78e5411-1df2-45ab-a891-d5fd220ca3a9",
   "metadata": {},
   "outputs": [],
   "source": [
    "# Sufia Khan\n",
    "# Prog 7\n",
    "# This program asks for user input through methods and uses helper methods inside those methods to output "
   ]
  },
  {
   "cell_type": "code",
   "execution_count": 1,
   "id": "c9b436ea-ca05-4fd2-a3ee-877e87f3ad24",
   "metadata": {},
   "outputs": [],
   "source": [
    "def handle():\n",
    "    \"\"\"Accesses grades from user input\"\"\"\n",
    "    print(\"Enter 5 integer grades, one at a time:\\n\")\n",
    "    grade_1 = int(input(\"Enter grade 1: \"))\n",
    "    grade_2 = int(input(\"Enter grade 2: \"))\n",
    "    grade_3 = int(input(\"Enter grade 3: \"))\n",
    "    grade_4 = int(input(\"Enter grade 4: \"))\n",
    "    grade_5 = int(input(\"Enter grade 5: \"))\n",
    "    grades = [grade_1, grade_2, grade_3, grade_4, grade_5] \n",
    "\n",
    "    def high(grades):\n",
    "        \"\"\"Calculates highest grade\"\"\"\n",
    "        maxValue = max(grades)\n",
    "        return maxValue\n",
    "    high(grades) \n",
    "        \n",
    "    def low(grades):\n",
    "        \"\"\"Calculates lowest grade\"\"\"\n",
    "        minValue = min(grades)\n",
    "        return minValue\n",
    "    low(grades)\n",
    "        \n",
    "    def average(grades):\n",
    "        \"\"\"Calculates average grade\"\"\"\n",
    "        avg = sum(grades)/len(grades)\n",
    "        return avg\n",
    "    average(grades)\n",
    "    \n",
    "    maxValue = high(grades)\n",
    "    minValue = low(grades)\n",
    "    avg = average(grades)\n",
    "    \n",
    "    print(f\"\\nHigh Grade: {maxValue}\\nLow Grade: {minValue}\\nAverage Grade: {avg}\")"
   ]
  },
  {
   "cell_type": "code",
   "execution_count": 2,
   "id": "6c4fa875-bd3d-4fa2-a108-14ce3e9b5959",
   "metadata": {},
   "outputs": [],
   "source": [
    "def more():\n",
    "    \"\"\"Gains user input and converts to list\"\"\"\n",
    "    print(\"Enter up to 10 floats (0 to finish)\")\n",
    "    level = 1\n",
    "    nums = float(input(f\"Float {level}: \"))\n",
    "    list1 = []\n",
    "    while nums != 0 and level <= 9:\n",
    "        level += 1\n",
    "        nums = float(input(f\"Float {level}: \"))\n",
    "        list1.append(nums)\n",
    "    \n",
    "    def pos(list1):\n",
    "        \"\"\"Counts positive values in list\"\"\"\n",
    "        num = 0\n",
    "        while(num < len(list1)):\n",
    "            if list1[num] >= 0:\n",
    "                print(list1[num], end = \" \")\n",
    "                num += 1\n",
    "    pos(list1)\n",
    "    \n",
    "    def neg(list1):\n",
    "        \"\"\"Counts negative values in list\"\"\"\n",
    "        num = 0\n",
    "        while(num < len(list1)):\n",
    "            if list1[num] <= 0:\n",
    "                print(list1[num], end = \" \")\n",
    "                num += 1\n",
    "    neg(list1)"
   ]
  },
  {
   "cell_type": "code",
   "execution_count": 3,
   "id": "ffd951b6-d469-41f2-8d80-af0581587dbe",
   "metadata": {},
   "outputs": [],
   "source": [
    "def target():\n",
    "    \"Gains user input and converts to list\"\"\"\n",
    "    print(\"Enter up to 10 negatives (positive to finish)\")\n",
    "    level = 1\n",
    "    nums = float(input(f\"Negative {level}: \"))\n",
    "    list1 = []\n",
    "    while nums < 0 and level <= 9:\n",
    "        level += 1\n",
    "        nums = float(input(f\"Negative {level}: \"))\n",
    "        list1.append(nums)\n",
    "    target = float(input(\"\\nTarget: \"))\n",
    "    \n",
    "    def target_count(list1, target):\n",
    "        \"\"\"Finds target in list and outputs number of occurances\"\"\"\n",
    "        if nums >= 0:\n",
    "            print(f\"Array: {list1[0:-1]}\")\n",
    "        else:\n",
    "            print(f\"Array: {list1}\")\n",
    "        print(f\"Target: {target}\")\n",
    "        count = list1.count(target)\n",
    "        print(f\"Number of time target appears in array: {count}\")\n",
    "    target_count(list1, target)"
   ]
  },
  {
   "cell_type": "code",
   "execution_count": 8,
   "id": "60446c97-2cae-41b7-bc22-27020c862b7e",
   "metadata": {},
   "outputs": [
    {
     "name": "stdout",
     "output_type": "stream",
     "text": [
      "Enter 12 MCQ Answers (one at a time): A,B,C,D\n"
     ]
    },
    {
     "name": "stdin",
     "output_type": "stream",
     "text": [
      "Answer 1 :  B\n",
      "Answer 2 :  A\n",
      "Answer 3 :  D\n",
      "Answer 4 :  A\n",
      "Answer 5 :  a\n"
     ]
    },
    {
     "name": "stdout",
     "output_type": "stream",
     "text": [
      "Invalid letter answer\n",
      "Enter answers as A, B, C, D\n"
     ]
    },
    {
     "name": "stdin",
     "output_type": "stream",
     "text": [
      "Answer 5:  A\n",
      "Answer 6 :  D\n",
      "Answer 7 :  C\n",
      "Answer 8 :  B\n",
      "Answer 9 :  A\n",
      "Answer 10 :  D\n",
      "Answer 11 :  A\n",
      "Answer 12 :  D\n"
     ]
    },
    {
     "name": "stdout",
     "output_type": "stream",
     "text": [
      "Enter 12 answer keys: \n"
     ]
    },
    {
     "name": "stdin",
     "output_type": "stream",
     "text": [
      "Answer Key 1:  D\n",
      "Answer Key 2:  a\n"
     ]
    },
    {
     "name": "stdout",
     "output_type": "stream",
     "text": [
      "Invalid letter answer\n",
      "Enter answers as A, B, C, D\n"
     ]
    },
    {
     "name": "stdin",
     "output_type": "stream",
     "text": [
      "Answer Key 2:  A\n",
      "Answer Key 3:  C\n",
      "Answer Key 4:  D\n",
      "Answer Key 5:  A\n",
      "Answer Key 6:  C\n",
      "Answer Key 7:  D\n",
      "Answer Key 8:  A\n",
      "Answer Key 9:  C\n",
      "Answer Key 10:  D\n",
      "Answer Key 11:  A\n",
      "Answer Key 12:  D\n"
     ]
    },
    {
     "ename": "IndexError",
     "evalue": "list index out of range",
     "output_type": "error",
     "traceback": [
      "\u001b[1;31m---------------------------------------------------------------------------\u001b[0m",
      "\u001b[1;31mIndexError\u001b[0m                                Traceback (most recent call last)",
      "Input \u001b[1;32mIn [8]\u001b[0m, in \u001b[0;36m<cell line: 67>\u001b[1;34m()\u001b[0m\n\u001b[0;32m     65\u001b[0m             \u001b[38;5;28mprint\u001b[39m(\u001b[38;5;124m\"\u001b[39m\u001b[38;5;124mLetter Grade: F\u001b[39m\u001b[38;5;124m\"\u001b[39m)\n\u001b[0;32m     66\u001b[0m     calculate(countIncorrect)\n\u001b[1;32m---> 67\u001b[0m \u001b[43mgrade\u001b[49m\u001b[43m(\u001b[49m\u001b[43m)\u001b[49m\n",
      "Input \u001b[1;32mIn [8]\u001b[0m, in \u001b[0;36mgrade\u001b[1;34m()\u001b[0m\n\u001b[0;32m     35\u001b[0m             countIncorrect \u001b[38;5;241m+\u001b[39m\u001b[38;5;241m=\u001b[39m \u001b[38;5;241m1\u001b[39m\n\u001b[0;32m     36\u001b[0m     \u001b[38;5;28;01mreturn\u001b[39;00m countCorrect \n\u001b[1;32m---> 37\u001b[0m \u001b[43mvalidate\u001b[49m\u001b[43m(\u001b[49m\u001b[43m)\u001b[49m\n\u001b[0;32m     39\u001b[0m \u001b[38;5;28;01mdef\u001b[39;00m \u001b[38;5;21mcalculate\u001b[39m(countIncorrect):\n\u001b[0;32m     40\u001b[0m     \u001b[38;5;124m\"\u001b[39m\u001b[38;5;124mCalculates percent grade and converts to letter grade. Prints both\u001b[39m\u001b[38;5;124m\"\u001b[39m\u001b[38;5;124m\"\u001b[39m\u001b[38;5;124m\"\u001b[39m\n",
      "Input \u001b[1;32mIn [8]\u001b[0m, in \u001b[0;36mgrade.<locals>.validate\u001b[1;34m()\u001b[0m\n\u001b[0;32m     30\u001b[0m countIncorrect \u001b[38;5;241m=\u001b[39m \u001b[38;5;241m0\u001b[39m\n\u001b[0;32m     31\u001b[0m \u001b[38;5;28;01mfor\u001b[39;00m Num \u001b[38;5;129;01min\u001b[39;00m \u001b[38;5;28mrange\u001b[39m(\u001b[38;5;241m12\u001b[39m):\n\u001b[1;32m---> 32\u001b[0m     \u001b[38;5;28;01mif\u001b[39;00m \u001b[43mstudent\u001b[49m\u001b[43m[\u001b[49m\u001b[43mNum\u001b[49m\u001b[43m]\u001b[49m \u001b[38;5;241m==\u001b[39m key[Num]:\n\u001b[0;32m     33\u001b[0m         countCorrect \u001b[38;5;241m+\u001b[39m\u001b[38;5;241m=\u001b[39m \u001b[38;5;241m1\u001b[39m\n\u001b[0;32m     34\u001b[0m     \u001b[38;5;28;01melse\u001b[39;00m:\n",
      "\u001b[1;31mIndexError\u001b[0m: list index out of range"
     ]
    }
   ],
   "source": [
    "def grade():\n",
    "    \"\"\"Gains user input for student answers and answer key\"\"\"\n",
    "    print(\"Enter 12 MCQ Answers (one at a time): A,B,C,D\")\n",
    "    student = []\n",
    "    for num in range(12): \n",
    "        stud_ans = input(f\"Answer {num + 1} : \")\n",
    "        if stud_ans not in (\"A\", \"B\", \"C\", \"D\"):\n",
    "            print(\"Invalid letter answer\")\n",
    "            print(\"Enter answers as A, B, C, D\")\n",
    "            stud_ans = input(f\"Answer {num + 1}: \")\n",
    "        else:\n",
    "            student.append(stud_ans)\n",
    "    #return student\n",
    "\n",
    "    print(\"Enter 12 answer keys: \")\n",
    "    key = []\n",
    "    for i in range(12):\n",
    "        ans_key = input(f\"Answer Key {i + 1}: \")\n",
    "        if ans_key not in (\"A\", \"B\", \"C\", \"D\"):\n",
    "            print(\"Invalid letter answer\")\n",
    "            print(\"Enter answers as A, B, C, D\")\n",
    "            ans_key = input(f\"Answer Key {i + 1}: \")\n",
    "        else:\n",
    "            key.append(ans_key)\n",
    "    #return key\n",
    "\n",
    "    def validate():\n",
    "        \"\"\"Differentiates between correct and incorrect answer\"\"\"\n",
    "        countCorrect = 0\n",
    "        countIncorrect = 0\n",
    "        for Num in range(12):\n",
    "            if student[Num] == key[Num]:\n",
    "                countCorrect += 1\n",
    "            else:\n",
    "                countIncorrect += 1\n",
    "        return countCorrect \n",
    "    validate()\n",
    "    \n",
    "    def calculate(countIncorrect):\n",
    "        \"Calculates percent grade and converts to letter grade. Prints both\"\"\"\n",
    "        correct = 12 - countIncorrect \n",
    "        percent = correct * 8.3\n",
    "        print(f\"Percent Grade: {percent}\")\n",
    "        if 100 >= percent >= 95:\n",
    "            print(\"Letter Grade: A\")\n",
    "        elif 94 >= percent >= 90:\n",
    "            print(\"Letter Grade: A-\")\n",
    "        elif 89 >= percent >= 87:\n",
    "            print(\"Letter Grade: B+\")\n",
    "        elif 86 >= percent >= 84:\n",
    "            print(\"Letter Grade: B\")\n",
    "        elif 83 >= percent >= 80:\n",
    "            print(\"Letter Grade: B-\")\n",
    "        elif 79 >= percent >= 77:\n",
    "            print(\"Letter Grade: C+\")\n",
    "        elif 76 >= percent >= 74:\n",
    "            print(\"Letter Grade: C\")\n",
    "        elif 73 >= percent >= 70:\n",
    "            print(\"Letter Grade: C-\")\n",
    "        elif 69 >= percent >= 67:\n",
    "            print(\"Letter Grade: D+\")\n",
    "        elif 66 >= percent >= 60:\n",
    "            print(\"Letter Grade: D\")\n",
    "        else:\n",
    "            print(\"Letter Grade: F\")\n",
    "    calculate(countIncorrect)\n",
    "grade()"
   ]
  },
  {
   "cell_type": "code",
   "execution_count": 5,
   "id": "311b3d6b-835f-4d73-9c17-47be4a7eb475",
   "metadata": {},
   "outputs": [],
   "source": [
    "def main():\n",
    "    \"\"\"Handles all above function and combines into one solid program\"\"\"\n",
    "    print(\"****************************\")\n",
    "    print(\"H) Handle Grades\\nM) More Positives or More Negatives\\nT) How Many Times?\\nG) Grade a Quiz\\nQ) Quit\\n\")\n",
    "    choice = input(\"Your Choice: \")\n",
    "    \n",
    "    if choice not in (\"H\",\"h\", \"m\", \"M\", \"t\", \"T\", \"g\", \"G\", \"q\", \"Q\"):\n",
    "        print(\"Invalid Input\")\n",
    "        choice = input(\"Your Choice: \")\n",
    "    elif choice in (\"H\", \"h\"):\n",
    "        handle() \n",
    "    elif choice in (\"M\", \"m\"):\n",
    "        more()\n",
    "    elif choice in (\"T\", \"t\"):\n",
    "        target()\n",
    "    elif choice in (\"G\", \"g\"):\n",
    "        grade()\n",
    "    else:\n",
    "        print(\"Thank You for using my program, Goodbye\")\n",
    "        "
   ]
  },
  {
   "cell_type": "code",
   "execution_count": 6,
   "id": "e8820e89-c132-4a30-bf76-9f46bcec9071",
   "metadata": {},
   "outputs": [
    {
     "name": "stdout",
     "output_type": "stream",
     "text": [
      "****************************\n",
      "H) Handle Grades\n",
      "M) More Positives or More Negatives\n",
      "T) How Many Times?\n",
      "G) Grade a Quiz\n",
      "Q) Quit\n",
      "\n"
     ]
    },
    {
     "name": "stdin",
     "output_type": "stream",
     "text": [
      "Your Choice:  q\n"
     ]
    },
    {
     "name": "stdout",
     "output_type": "stream",
     "text": [
      "Thank You for using my program, Goodbye\n"
     ]
    }
   ],
   "source": [
    "main()"
   ]
  },
  {
   "cell_type": "code",
   "execution_count": null,
   "id": "48162248-dd3a-4f96-a263-7e740e59ef88",
   "metadata": {},
   "outputs": [],
   "source": []
  }
 ],
 "metadata": {
  "kernelspec": {
   "display_name": "Python 3 (ipykernel)",
   "language": "python",
   "name": "python3"
  },
  "language_info": {
   "codemirror_mode": {
    "name": "ipython",
    "version": 3
   },
   "file_extension": ".py",
   "mimetype": "text/x-python",
   "name": "python",
   "nbconvert_exporter": "python",
   "pygments_lexer": "ipython3",
   "version": "3.9.12"
  }
 },
 "nbformat": 4,
 "nbformat_minor": 5
}
